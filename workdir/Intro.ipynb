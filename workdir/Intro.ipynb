{
 "cells": [
  {
   "cell_type": "markdown",
   "metadata": {},
   "source": [
    "# Introduction to quantum algorithms with [Qiskit](https://qiskit.org)\n",
    "$$\n",
    "\\newcommand{\\ket}[1]{|#1\\rangle}\n",
    "\\newcommand{\\Ket}[1]{\\left|#1\\right\\rangle}\n",
    "\\newcommand{\\bra}[1]{\\langle#1|}\n",
    "\\newcommand{\\Bra}[1]{\\left\\langle#1\\right|}\n",
    "\\newcommand{\\braket}[1]{\\langle#1\\rangle}\n",
    "\\newcommand{\\u}{\\ket\\uparrow}\n",
    "\\newcommand{\\ub}{\\bra\\uparrow}\n",
    "\\newcommand{\\d}{\\ket\\downarrow}\n",
    "\\newcommand{\\db}{\\bra\\downarrow}\n",
    "$$"
   ]
  },
  {
   "cell_type": "code",
   "execution_count": 51,
   "metadata": {},
   "outputs": [
    {
     "data": {
      "text/plain": [
       "'0.8.2'"
      ]
     },
     "execution_count": 51,
     "metadata": {},
     "output_type": "execute_result"
    }
   ],
   "source": [
    "import math\n",
    "import numpy as np\n",
    "\n",
    "import qiskit\n",
    "from qiskit import QuantumCircuit, QuantumRegister, ClassicalRegister\n",
    "from qiskit import Aer, execute\n",
    "from qiskit.visualization import plot_bloch_multivector\n",
    "from qiskit.visualization import plot_bloch_vector\n",
    "from qiskit.visualization import plot_histogram\n",
    "from qiskit.visualization import plot_state\n",
    "\n",
    "qbackend = Aer.get_backend('qasm_simulator')\n",
    "sbackend = Aer.get_backend('statevector_simulator')\n",
    "ubackend = Aer.get_backend('unitary_simulator')\n",
    "qiskit.__version__"
   ]
  },
  {
   "cell_type": "markdown",
   "metadata": {},
   "source": [
    "## Quantum state vs classical state\n",
    "- [Double slit experiment](https://www.youtube.com/watch?v=Q1YqgPAtzho)\n",
    "- [Stern-Gerlach experiment](https://www.youtube.com/watch?v=PH1FbkLVJU4)\n",
    "- [Light & QM](https://www.youtube.com/watch?v=MzRCDLre1b4)\n",
    "### Reading:\n",
    "- Michael A. Nielsen & Isaac L. Chuang: Quantum Computation and Quantum Information (10th edition)\n",
    "- [Qiskit online textbook](https://qiskit.org/textbook/preface.html)\n",
    "- [What we can learn about quantum physics from a single qubit](https://arxiv.org/pdf/1312.1463.pdf)"
   ]
  },
  {
   "cell_type": "markdown",
   "metadata": {},
   "source": [
    "### Qubits:\n",
    "- <b>the qubit is the simplest possible quantum mechanical state</b>\n",
    "- <b>A qubit is a quantum system that has <i>2 possible measurement outcomes</i></b>\n",
    "- $\\ket 0 = \\u = \\ket\\circlearrowright = \\begin{bmatrix}1\\\\0\\end{bmatrix}$\n",
    "- $\\ket 1 = \\d = \\ket\\circlearrowleft = \\begin{bmatrix}0\\\\1\\end{bmatrix}$\n",
    "- A state can be in a superposition of the 2 possible outcomes:\n",
    "    - $\\ket\\psi = \\alpha\\ket 0 + \\beta\\ket 1 = \\begin{bmatrix}\\alpha\\\\\\beta\\end{bmatrix},\n",
    "|\\alpha|^2 + |\\beta|^2 = 1$\n",
    "- The coefficients of the <i>eigenstates</i> are interpreted as <i>probability amplitudes</i>:\n",
    "    - $P(0) = P(\\uparrow) = |\\braket{0|\\psi}|^2 = |\\alpha|^2$\n",
    "    - $P(1) = P(\\downarrow) = |\\braket{1|\\psi}|^2 = |\\beta|^2$"
   ]
  },
  {
   "cell_type": "markdown",
   "metadata": {},
   "source": [
    "### Formal definition:\n",
    "- Objects in the quantum world are described by an element class in the Hilbert-space:\n",
    "$$\n",
    "\\ket\\psi \\equiv e^{i\\varphi}\\ket\\psi, \\forall \\varphi\\in \\mathbb R\\\\\n",
    "||\\psi|| = \\sqrt{\\braket{\\psi|\\psi}} \\overset{!}{=} 1\n",
    "$$\n",
    "- Hilbert spaces are vector spaces with scalar product $\\braket{\\cdot|\\cdot}: \\mathcal H\n",
    "\\rightarrow \\mathbb C$:\n",
    "    - $\\braket{\\psi|\\psi} \\geq 0$\n",
    "    - $\\braket{x|y} = \\braket{y|x}^*$\n",
    "    - $\\braket{x|\\alpha y + \\beta z} = \\alpha\\braket{x|y} + \\beta\\braket{x|z}$\n",
    "- If $\\ket\\psi = \\alpha\\ket 0 + \\beta\\ket 1$ and $\\ket\\phi = a\\ket 0 + b\\ket 1$, then:\n",
    "$$\n",
    "\\braket{\\psi|\\phi} = \\alpha^*a+\\beta^*b\n",
    "$$"
   ]
  },
  {
   "cell_type": "markdown",
   "metadata": {},
   "source": [
    "### Example 1: Measure a single qubit"
   ]
  },
  {
   "cell_type": "code",
   "execution_count": 77,
   "metadata": {},
   "outputs": [
    {
     "data": {
      "image/png": "[encoded data removed]",
      "text/plain": [
       "<Figure size 301x138.46 with 1 Axes>"
      ]
     },
     "execution_count": 77,
     "metadata": {},
     "output_type": "execute_result"
    }
   ],
   "source": [
    "qreg = QuantumRegister(1)\n",
    "creg = ClassicalRegister(1)\n",
    "\n",
    "circ = QuantumCircuit(qreg,creg)\n",
    "circ.measure(0,0)\n",
    "\n",
    "circ.draw(output='mpl')"
   ]
  },
  {
   "cell_type": "code",
   "execution_count": 78,
   "metadata": {},
   "outputs": [
    {
     "data": {
      "image/png": "[encoded data removed]",
      "text/plain": [
       "<Figure size 504x360 with 1 Axes>"
      ]
     },
     "execution_count": 78,
     "metadata": {},
     "output_type": "execute_result"
    }
   ],
   "source": [
    "job = execute( circ, qbackend, shots=1000 )\n",
    "state = job.result().get_counts()\n",
    "plot_histogram(state)"
   ]
  },
  {
   "cell_type": "markdown",
   "metadata": {},
   "source": [
    "Prepare the state $\\ket\\psi = \\frac{1}{\\sqrt 2}\\ket 0 + \\frac{i}{\\sqrt 2}\\ket 1$"
   ]
  },
  {
   "cell_type": "code",
   "execution_count": 79,
   "metadata": {},
   "outputs": [
    {
     "data": {
      "image/png": "[encoded data removed]",
      "text/plain": [
       "<Figure size 421.4x138.46 with 1 Axes>"
      ]
     },
     "execution_count": 79,
     "metadata": {},
     "output_type": "execute_result"
    }
   ],
   "source": [
    "qreg = QuantumRegister(1)\n",
    "creg = ClassicalRegister(1)\n",
    "\n",
    "circ = QuantumCircuit(qreg,creg)\n",
    "amplitudes = (1.0/np.sqrt(2))*np.array([1.0+0.0j, 0.0+1.0j])\n",
    "circ.initialize(amplitudes, qreg)\n",
    "circ.measure(0,0)\n",
    "\n",
    "circ.draw(output='mpl')"
   ]
  },
  {
   "cell_type": "code",
   "execution_count": 80,
   "metadata": {
    "scrolled": true
   },
   "outputs": [
    {
     "name": "stdout",
     "output_type": "stream",
     "text": [
      "Counts: {'0': 489, '1': 511}\n"
     ]
    },
    {
     "data": {
      "image/png": "[encoded data removed]",
      "text/plain": [
       "<Figure size 504x360 with 1 Axes>"
      ]
     },
     "execution_count": 80,
     "metadata": {},
     "output_type": "execute_result"
    }
   ],
   "source": [
    "job = execute( circ, qbackend, shots=1000 )\n",
    "state = job.result().get_counts()\n",
    "print(\"Counts:\", state)\n",
    "plot_histogram(state)"
   ]
  },
  {
   "cell_type": "markdown",
   "metadata": {},
   "source": [
    "Prepare the state $\\ket\\psi = \\frac{i}{\\sqrt 2}\\ket 0 - \\frac{1}{\\sqrt 2}\\ket 1$"
   ]
  },
  {
   "cell_type": "code",
   "execution_count": 81,
   "metadata": {},
   "outputs": [
    {
     "data": {
      "image/png": "[encoded data removed]",
      "text/plain": [
       "<Figure size 421.4x138.46 with 1 Axes>"
      ]
     },
     "execution_count": 81,
     "metadata": {},
     "output_type": "execute_result"
    }
   ],
   "source": [
    "qreg = QuantumRegister(1)\n",
    "creg = ClassicalRegister(1)\n",
    "\n",
    "circ = QuantumCircuit(qreg,creg)\n",
    "amplitudes = (1.0/np.sqrt(2))*np.array([0.0+1.0j, -1.0+0.0j])\n",
    "circ.initialize(amplitudes, qreg)\n",
    "circ.measure(0,0)\n",
    "\n",
    "circ.draw(output='mpl')"
   ]
  },
  {
   "cell_type": "code",
   "execution_count": 82,
   "metadata": {
    "scrolled": true
   },
   "outputs": [
    {
     "name": "stdout",
     "output_type": "stream",
     "text": [
      "Counts: {'0': 508, '1': 492}\n"
     ]
    },
    {
     "data": {
      "image/png": "[encoded data removed]",
      "text/plain": [
       "<Figure size 504x360 with 1 Axes>"
      ]
     },
     "execution_count": 82,
     "metadata": {},
     "output_type": "execute_result"
    }
   ],
   "source": [
    "job = execute( circ, qbackend, shots=1000 )\n",
    "state = job.result().get_counts()\n",
    "print(\"Counts:\", state)\n",
    "plot_histogram(state)"
   ]
  },
  {
   "cell_type": "markdown",
   "metadata": {},
   "source": [
    "Prepare the state $\\ket\\psi = \\sqrt {\\frac{999}{1000}}\\ket 0 + \\sqrt {\\frac{1}{1000}}\\ket 1$"
   ]
  },
  {
   "cell_type": "code",
   "execution_count": 83,
   "metadata": {},
   "outputs": [
    {
     "data": {
      "image/png": "[encoded data removed]",
      "text/plain": [
       "<Figure size 421.4x138.46 with 1 Axes>"
      ]
     },
     "execution_count": 83,
     "metadata": {},
     "output_type": "execute_result"
    }
   ],
   "source": [
    "qreg = QuantumRegister(1)\n",
    "creg = ClassicalRegister(1)\n",
    "\n",
    "circ = QuantumCircuit(qreg,creg)\n",
    "amplitudes = [np.sqrt(999/1000), np.sqrt(1/1000)]\n",
    "circ.initialize(amplitudes, qreg)\n",
    "circ.measure(0,0)\n",
    "\n",
    "circ.draw(output='mpl')"
   ]
  },
  {
   "cell_type": "code",
   "execution_count": 84,
   "metadata": {},
   "outputs": [
    {
     "name": "stdout",
     "output_type": "stream",
     "text": [
      "Counts: {'0': 9989, '1': 11}\n"
     ]
    },
    {
     "data": {
      "image/png": "[encoded data removed]",
      "text/plain": [
       "<Figure size 504x360 with 1 Axes>"
      ]
     },
     "execution_count": 84,
     "metadata": {},
     "output_type": "execute_result"
    }
   ],
   "source": [
    "job = execute( circ, qbackend, shots=10000 )\n",
    "state = job.result().get_counts()\n",
    "print(\"Counts:\", state)\n",
    "plot_histogram(state)"
   ]
  },
  {
   "cell_type": "markdown",
   "metadata": {},
   "source": [
    "### Unitary matrix\n",
    "- $U = \\begin{bmatrix}a&b\\\\c&d\\end{bmatrix}$\n",
    "- $U^{\\dagger} = (U^{\\top})^* = \\begin{bmatrix}a^*&c^*\\\\b^*&d^*\\end{bmatrix}$\n",
    "- $U$ is unitary $\\iff U^{\\dagger} = U^{-1} \\iff UU^{\\dagger} = U^{\\dagger}U = \\mathbb 1$ "
   ]
  },
  {
   "cell_type": "markdown",
   "metadata": {},
   "source": [
    "## Quantum gates\n",
    "- <b>Any unitary matrix can be used as a quantum logic gate!</b>\n",
    "\n",
    "### Single qubit gates:\n",
    "- $X$ or NOT gate:\n",
    "    $$X = \\begin{bmatrix}0&1\\\\1&0\\end{bmatrix}$$<br>\n",
    "    $$\\ket 0 \\rightarrow \\ket 1 \\\\ \\ket 1 \\rightarrow \\ket 0$$"
   ]
  },
  {
   "cell_type": "markdown",
   "metadata": {},
   "source": [
    "- $Y$ gate:\n",
    "    $$Y = \\begin{bmatrix}0&-i\\\\i&0\\end{bmatrix}$$<br>\n",
    "    $$\\ket 0 \\rightarrow i\\ket 1 \\\\ \\ket 1 \\rightarrow -i\\ket 0$$"
   ]
  },
  {
   "cell_type": "markdown",
   "metadata": {},
   "source": [
    "- $Z$ gate:\n",
    "    $$Z = \\begin{bmatrix}1&0\\\\0&-1\\end{bmatrix}$$<br>\n",
    "    $$\\ket 0 \\rightarrow \\ket 0 \\\\ \\ket 1 \\rightarrow -\\ket 1$$"
   ]
  },
  {
   "cell_type": "markdown",
   "metadata": {},
   "source": [
    "- Phase shift gate:\n",
    "    $$R_{\\phi} = \\begin{bmatrix}1&0\\\\0&e^{i\\phi}\\end{bmatrix}$$<br>\n",
    "    $$\\ket 0 \\rightarrow \\ket 0 \\\\ \\ket 1 \\rightarrow e^{i\\phi}\\ket 1$$"
   ]
  },
  {
   "cell_type": "markdown",
   "metadata": {},
   "source": [
    "- Hadamard gate:\n",
    "    $$H = \\frac{1}{\\sqrt 2}\\begin{bmatrix}1&1\\\\1&-1\\end{bmatrix}$$<br>\n",
    "    $$\\ket 0 \\rightarrow \\frac{\\ket 0 + \\ket 1}{\\sqrt 2} = \\ket + \\\\\n",
    "      \\ket 1 \\rightarrow \\frac{\\ket 0 - \\ket 1}{\\sqrt 2} = \\ket - $$"
   ]
  },
  {
   "cell_type": "markdown",
   "metadata": {},
   "source": [
    "- $\\sqrt X$ or $\\sqrt{\\text{NOT}}$ gate\n",
    "    $$ \\sqrt X = \\frac{1}{2} \\begin{bmatrix} 1+i & 1-i \\\\ 1-i & 1+i\\end{bmatrix} $$<br>\n",
    "    $$ \\ket 0 \\rightarrow \\frac{(1+i)\\ket 0 + (1-i)\\ket 1}{2} \\\\\n",
    "       \\ket 1 \\rightarrow \\frac{(1-i)\\ket 0 + (1+i)\\ket 1}{2}$$"
   ]
  },
  {
   "cell_type": "markdown",
   "metadata": {},
   "source": [
    "### Two-qubit gates\n",
    "- SWAP:\n",
    "    $$SWAP = \\begin{bmatrix}\n",
    "    1&0&0&0\\\\\n",
    "    0&0&1&0\\\\\n",
    "    0&1&0&0\\\\\n",
    "    0&0&0&1\n",
    "    \\end{bmatrix}$$<br>\n",
    "    $$\n",
    "    \\text{SWAP}(\\ket{01}) = \\ket{10}\\\\\n",
    "    \\text{SWAP}(\\ket{10}) = \\ket{01}\\\\\n",
    "    \\text{SWAP}(\\text{SWAP}(\\ket{01})) = \\ket{01}\n",
    "    $$"
   ]
  },
  {
   "cell_type": "markdown",
   "metadata": {},
   "source": [
    "- $\\sqrt{\\text{SWAP}}$:\n",
    "    $$\\sqrt{\\text{SWAP}} = \\begin{bmatrix}\n",
    "    1&0&0&0\\\\\n",
    "    0&\\frac{1}{2}(1+i)&\\frac{1}{2}(1-i)&0\\\\\n",
    "    0&\\frac{1}{2}(1-i)&\\frac{1}{2}(1+i)&0\\\\\n",
    "    0&0&0&1\n",
    "    \\end{bmatrix}$$<br>\n",
    "    $$\n",
    "    \\sqrt{\\text{SWAP}}\\left(\\sqrt{\\text{SWAP}}(\\ket{01})\\right) = \\ket{10}\\\\\n",
    "    \\sqrt{\\text{SWAP}}\\left(\\sqrt{\\text{SWAP}}(\\ket{10})\\right) = \\ket{01}\\\\\n",
    "    \\left(\\sqrt{\\text{SWAP}}\\right)^4(\\ket{01}) = \\ket{01}\n",
    "    $$"
   ]
  },
  {
   "cell_type": "markdown",
   "metadata": {},
   "source": [
    "- cX or cNOT:\n",
    "    $$cX = \\begin{bmatrix}\n",
    "    1&0&0&0\\\\\n",
    "    0&1&0&0\\\\\n",
    "    0&0&0&1\\\\\n",
    "    0&0&1&0\n",
    "    \\end{bmatrix}$$<br>\n",
    "    - Apply X on the second qubit if the first qubit is $\\ket 1$ else do nothing:\n",
    "    $$\n",
    "    \\ket{00} \\rightarrow \\ket{00}\\\\\n",
    "    \\ket{01} \\rightarrow \\ket{01}\\\\\n",
    "    \\ket{10} \\rightarrow \\ket{11}\\\\\n",
    "    \\ket{11} \\rightarrow \\ket{10}\n",
    "    $$"
   ]
  },
  {
   "cell_type": "markdown",
   "metadata": {},
   "source": [
    "- cU:\n",
    "    - If $U = \\begin{bmatrix}a&b\\\\c&d\\end{bmatrix}$, then\n",
    "    $$cU = \\begin{bmatrix}\n",
    "    1&0&0&0\\\\\n",
    "    0&1&0&0\\\\\n",
    "    0&0&a&b\\\\\n",
    "    0&0&c&d\n",
    "    \\end{bmatrix}$$<br>\n",
    "    - Apply $U$ on the second qubit if the first qubit is $\\ket 1$ else do nothing."
   ]
  },
  {
   "cell_type": "code",
   "execution_count": null,
   "metadata": {},
   "outputs": [],
   "source": []
  }
 ],
 "metadata": {
  "kernelspec": {
   "display_name": "Python 3",
   "language": "python",
   "name": "python3"
  },
  "language_info": {
   "codemirror_mode": {
    "name": "ipython",
    "version": 3
   },
   "file_extension": ".py",
   "mimetype": "text/x-python",
   "name": "python",
   "nbconvert_exporter": "python",
   "pygments_lexer": "ipython3",
   "version": "3.6.8"
  }
 },
 "nbformat": 4,
 "nbformat_minor": 2
}
