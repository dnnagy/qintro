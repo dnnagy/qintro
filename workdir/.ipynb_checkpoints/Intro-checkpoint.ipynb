{
 "cells": [
  {
   "cell_type": "markdown",
   "metadata": {},
   "source": [
    "# Introduction to quantum algorithms\n",
    "$$\n",
    "\\newcommand{\\ket}[1]{|#1\\rangle}\n",
    "\\newcommand{\\Ket}[1]{\\left|#1\\right\\rangle}\n",
    "\\newcommand{\\bra}[1]{\\langle#1|}\n",
    "\\newcommand{\\Bra}[1]{\\left\\langle#1\\right|}\n",
    "\\newcommand{\\braket}[1]{\\langle#1\\rangle}\n",
    "\\newcommand{\\u}{\\ket\\uparrow}\n",
    "\\newcommand{\\ub}{\\bra\\uparrow}\n",
    "\\newcommand{\\d}{\\ket\\downarrow}\n",
    "\\newcommand{\\db}{\\bra\\downarrow}\n",
    "$$"
   ]
  },
  {
   "cell_type": "markdown",
   "metadata": {},
   "source": [
    "## Quantum state vs classical state\n",
    "- [Double slit experiment](https://www.youtube.com/watch?v=Q1YqgPAtzho)\n",
    "- [Stern-Gerlach experiment](https://www.youtube.com/watch?v=PH1FbkLVJU4)\n",
    "- [Light & QM](https://www.youtube.com/watch?v=MzRCDLre1b4)"
   ]
  },
  {
   "cell_type": "markdown",
   "metadata": {},
   "source": [
    "$$\\ket\\uparrow\\ket\\downarrow \\ket\\circlearrowleft \\ket\\circlearrowright $$\n",
    "$$\\ket\\psi = \\alpha\\u + \\beta\\d$$"
   ]
  },
  {
   "cell_type": "markdown",
   "metadata": {},
   "source": [
    "### What is a quantum state?\n",
    "- Objects in the quantum world are described by an element class in the Hilbert-space:\n",
    "$$\n",
    "\\ket\\psi \\equiv e^{i\\varphi}\\ket\\psi, \\forall \\varphi\\in \\mathbb R\\\\\n",
    "||\\psi|| = \\sqrt{\\braket{\\psi|\\psi}} \\overset{!}{=} 1\n",
    "$$\n",
    "- Hilbert spaces are vector spaces:\n",
    "    - $\\braket{\\psi|\\psi} \\geq 0$\n",
    "    - $\\braket{x|y} = \\braket{y|x}^*$\n",
    "    - $\\braket{x|\\alpha y + \\beta z} = \\alpha\\braket{x|y} + \\beta\\braket{x|z}$"
   ]
  },
  {
   "cell_type": "markdown",
   "metadata": {},
   "source": [
    "### Qubits:\n",
    "- $\\ket 0 = \\u = \\begin{bmatrix}1\\\\0\\end{bmatrix}$\n",
    "- $\\ket 1 = \\d = \\begin{bmatrix}0\\\\1\\end{bmatrix}$\n",
    "- $\\ket\\psi = \\alpha\\ket 0 + \\beta\\ket 1 = \\begin{bmatrix}\\alpha\\\\\\beta\\end{bmatrix},\n",
    "|\\alpha|^2 + |\\beta|^2 = 1$\n",
    "- $P(0) = P(\\uparrow) = |\\braket{0|\\psi}|^2 = |\\alpha|^2$\n",
    "- $P(1) = P(\\downarrow) = |\\braket{1|\\psi}|^2 = |\\beta|^2$"
   ]
  },
  {
   "cell_type": "markdown",
   "metadata": {},
   "source": [
    "### Unitary matrix\n",
    "- $U = \\begin{bmatrix}a&b\\\\c&d\\end{bmatrix}$\n",
    "- $U^{\\dagger} = (U^{\\top})^* = \\begin{bmatrix}a^*&c^*\\\\b^*&d^*\\end{bmatrix}$\n",
    "- $U$ is unitary $\\iff U^{\\dagger} = U^{-1} \\iff UU^{\\dagger} = U^{\\dagger}U = \\mathbb 1$ "
   ]
  },
  {
   "cell_type": "markdown",
   "metadata": {},
   "source": [
    "## Quantum gates\n",
    "- <b>Any unitary matrix can be used as a quantum logic gate!</b>\n",
    "\n",
    "### Single qubit gates:\n",
    "- $X$ or NOT gate:\n",
    "    $$X = \\begin{bmatrix}0&1\\\\1&0\\end{bmatrix}$$\n",
    "- $Y$ gate:\n",
    "    $$Y = \\begin{bmatrix}0&-i\\\\i&0\\end{bmatrix}$$\n",
    "- $Z$ gate:\n",
    "    $$Z = \\begin{bmatrix}1&0\\\\0&-1\\end{bmatrix}$$\n",
    "- Phase shift gate:\n",
    "    $$R_{\\phi} = \\begin{bmatrix}1&0\\\\0&e^{i\\phi}\\end{bmatrix}$$\n",
    "- Hadamard gate:\n",
    "    $$H = \\frac{1}{\\sqrt 2}\\begin{bmatrix}1&1\\\\1&-1\\end{bmatrix}$$\n",
    "- $\\sqrt X$ or $\\sqrt{\\text{NOT}}$ gate\n",
    "    $$ \\sqrt X = \\frac{1}{2} \\begin{bmatrix} 1+i & 1-i \\\\ 1-i & 1+i\\end{bmatrix} $$"
   ]
  },
  {
   "cell_type": "code",
   "execution_count": null,
   "metadata": {},
   "outputs": [],
   "source": []
  }
 ],
 "metadata": {
  "kernelspec": {
   "display_name": "Python 3",
   "language": "python",
   "name": "python3"
  },
  "language_info": {
   "codemirror_mode": {
    "name": "ipython",
    "version": 3
   },
   "file_extension": ".py",
   "mimetype": "text/x-python",
   "name": "python",
   "nbconvert_exporter": "python",
   "pygments_lexer": "ipython3",
   "version": "3.6.8"
  }
 },
 "nbformat": 4,
 "nbformat_minor": 2
}
